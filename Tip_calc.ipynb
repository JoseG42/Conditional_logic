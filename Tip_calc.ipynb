{
 "cells": [
  {
   "cell_type": "code",
   "execution_count": 9,
   "id": "bbb35525",
   "metadata": {},
   "outputs": [
    {
     "name": "stdout",
     "output_type": "stream",
     "text": [
      "Hello\n",
      "The bill is$ 19.19\n",
      "Your level of satisfaction is Good\n"
     ]
    }
   ],
   "source": [
    "#greet the user\n",
    "print('Hello')\n",
    "#create variables for total bill and customer satisfaction\n",
    "#asking for the user input\n",
    "total_bill=input('What did the bill come out to?')\n",
    "satisfaction=input('Please describe your level of satisfaction as good, average, or bad')\n",
    "#confirm the user input\n",
    "print('The bill is$', total_bill)\n",
    "print('Your level of satisfaction is',satisfaction)\n"
   ]
  },
  {
   "cell_type": "code",
   "execution_count": 10,
   "id": "f05c34b1",
   "metadata": {},
   "outputs": [
    {
     "name": "stdout",
     "output_type": "stream",
     "text": [
      "ERROR: satisfaction may only be good, average, or bad\n"
     ]
    }
   ],
   "source": [
    "#make total bill float\n",
    "total_bill=float(total_bill)\n",
    "#make the suggested tip variable\n",
    "suggested_tip=0\n",
    "#set up the logic chain\n",
    "#if satisfaction is good\n",
    "if satisfaction=='good':\n",
    "    #suggest 20% tip\n",
    "    suggested_tip=(total_bill*.2)\n",
    "    #print the suggestion\n",
    "    print('I suggest a tip of $',suggested_tip)\n",
    "#else if satisfaction is average\n",
    "elif satisfaction=='average':\n",
    "    #suggest 10% tip\n",
    "    suggested_tip=(total_bill*.1)\n",
    "    #print the suggestion\n",
    "    print('I suggest you tip $',suggested_tip)\n",
    "#else if satifaction is bad\n",
    "elif satisfaction=='bad':\n",
    "    #suggest no tip\n",
    "    print('Sorry youre not satisfied')\n",
    "#else for any incompatible input\n",
    "else:\n",
    "    #error message\n",
    "    print('ERROR: satisfaction may only be good, average, or bad')\n"
   ]
  },
  {
   "cell_type": "markdown",
   "id": "71db612a",
   "metadata": {},
   "source": [
    "Test and debug\n",
    "I tested three different total bill inputs for each satisfaction option.\n",
    "I checked the math of the suggested tip for each of the results I got.\n",
    "I tested multiple incompatible satisfaction inputs to see that the error message worked."
   ]
  }
 ],
 "metadata": {
  "kernelspec": {
   "display_name": "Python 3",
   "language": "python",
   "name": "python3"
  },
  "language_info": {
   "codemirror_mode": {
    "name": "ipython",
    "version": 3
   },
   "file_extension": ".py",
   "mimetype": "text/x-python",
   "name": "python",
   "nbconvert_exporter": "python",
   "pygments_lexer": "ipython3",
   "version": "3.12.1"
  }
 },
 "nbformat": 4,
 "nbformat_minor": 5
}
