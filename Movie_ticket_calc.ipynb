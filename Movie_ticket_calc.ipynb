{
 "cells": [
  {
   "cell_type": "code",
   "execution_count": null,
   "id": "34a89d57",
   "metadata": {},
   "outputs": [
    {
     "name": "stdout",
     "output_type": "stream",
     "text": [
      "Hello\n",
      "you are 22.0 years old\n",
      "veteran = asdf\n",
      "ERROR:Answer to Are you a veteran? may only be yes or no, answer is case sensitive. Please try again\n"
     ]
    }
   ],
   "source": [
    "#greet the user\n",
    "print('Hello')\n",
    "#make variable for user age, tiket cost, and veteran\n",
    "age=float(input('How many years old are you?'))\n",
    "ticket=float(0)\n",
    "#veteran discounts are not just for senior citizens\n",
    "veteran=input('Are you a veteran? yes or no')\n",
    "veteran=veteran.lower()\n",
    "#confirm inputs\n",
    "print('you are',age,'years old')\n",
    "print('veteran =',veteran)\n",
    "#if age < 17 and veteran is yes\n",
    "if age < 17 and veteran == 'yes':\n",
    "    #call them out\n",
    "    print('You couldnt possibly be a veteran under the age of 17')\n",
    "    #fix it\n",
    "    veteran='no'\n",
    "#elif age > 16 and veteran is yes\n",
    "elif veteran == 'yes':\n",
    "    \n",
    "    print('You are a veteran')\n",
    "#if veteran is no\n",
    "elif veteran == 'no':\n",
    "\n",
    "    print('You are not a veteran')\n",
    "#if veteran is anything else    \n",
    "else:\n",
    "    print('ERROR:Answer to Are you a veteran? may only be yes or no. Please try again')\n",
    "#if age < 18 and veteran is yes, call them out\n"
   ]
  },
  {
   "cell_type": "code",
   "execution_count": 38,
   "id": "fe849f5e",
   "metadata": {},
   "outputs": [
    {
     "name": "stdout",
     "output_type": "stream",
     "text": [
      "Your ticket comes out to $ 10\n"
     ]
    }
   ],
   "source": [
    "#determine ticket price\n",
    "if age < 12:\n",
    "    ticket = 5\n",
    "elif age < 61:\n",
    "    ticket = 10\n",
    "else:\n",
    "    ticket = 7\n",
    "#apply 10% veteran discount\n",
    "if veteran == 'yes':\n",
    "    ticket=(ticket*.9)\n",
    "    #print final cost\n",
    "    print('Your ticket comes out to $',ticket)\n",
    "else:\n",
    "    print('Your ticket comes out to $',ticket)"
   ]
  },
  {
   "cell_type": "markdown",
   "id": "4b8803db",
   "metadata": {},
   "source": [
    "test and debug\n",
    "I tested at least three combinations of ages bellow twelve, between twelve and sixty, above sixty each with veteran = yes, no, and incompatible answers.\n",
    "I confirmed the math is correct for each price option when applying the veteran discount by calculating it and comparing to the output.\n",
    "The second cell will still output a ticket price with an uncompatible input for the veteran variable, meaning if the value is anything other than yes, the program defaults to not apply the discount."
   ]
  }
 ],
 "metadata": {
  "kernelspec": {
   "display_name": "Python 3",
   "language": "python",
   "name": "python3"
  },
  "language_info": {
   "codemirror_mode": {
    "name": "ipython",
    "version": 3
   },
   "file_extension": ".py",
   "mimetype": "text/x-python",
   "name": "python",
   "nbconvert_exporter": "python",
   "pygments_lexer": "ipython3",
   "version": "3.12.1"
  }
 },
 "nbformat": 4,
 "nbformat_minor": 5
}
