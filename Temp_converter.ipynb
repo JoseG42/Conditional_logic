{
 "cells": [
  {
   "cell_type": "code",
   "execution_count": 23,
   "id": "eacecb7b",
   "metadata": {},
   "outputs": [
    {
     "name": "stdout",
     "output_type": "stream",
     "text": [
      "Hello\n",
      "It is -20.0 degrees Celsius\n",
      "or -4.0 degrees Fahrenheit\n"
     ]
    }
   ],
   "source": [
    "#Greet the user\n",
    "print('Hello')\n",
    "#Create variable for temp in C\n",
    "temp_c=input('What is the temperature in degrees Celsius?')\n",
    "#Make it float\n",
    "temp_c=float(temp_c)\n",
    "#Make variable for temp in F equal to temp_c multiplied by 1.8 plus 32\n",
    "temp_f=((temp_c*1.8)+32)\n",
    "#Confirm the variables\n",
    "print('It is',temp_c,'degrees Celsius')\n",
    "print('or',temp_f,'degrees Fahrenheit')"
   ]
  },
  {
   "cell_type": "code",
   "execution_count": 24,
   "id": "38487d14",
   "metadata": {},
   "outputs": [
    {
     "name": "stdout",
     "output_type": "stream",
     "text": [
      "I suggest you wear heavy winter clothing\n",
      "I further suggest an umbrella if its rainy today\n"
     ]
    }
   ],
   "source": [
    "#if temp F is less than 0\n",
    "if temp_f<0:\n",
    "    #suggest heavy winter clothes\n",
    "    print('I suggest you wear heavy winter clothing')\n",
    "#else if temp F is between 0 and 20\n",
    "elif temp_f>=0 and temp_f<20:\n",
    "    #suggest a jacket\n",
    "    print('I suggest you wear a jacket')\n",
    "#else suggest light clothing\n",
    "else :\n",
    "    print('I suggest you wear light clothing')\n",
    "#I think these two lines are self explanatory\n",
    "if temp_f<15:\n",
    "    print('I further suggest an umbrella if its rainy today')"
   ]
  },
  {
   "cell_type": "markdown",
   "id": "68df1bf0",
   "metadata": {},
   "source": [
    "Test and debug\n",
    "print out each variable along the way.\n",
    "Test a range of temp_c inputs from negative twenty to positive twenty.\n",
    "The program will fail if the input is incomapatible."
   ]
  }
 ],
 "metadata": {
  "kernelspec": {
   "display_name": "Python 3",
   "language": "python",
   "name": "python3"
  },
  "language_info": {
   "codemirror_mode": {
    "name": "ipython",
    "version": 3
   },
   "file_extension": ".py",
   "mimetype": "text/x-python",
   "name": "python",
   "nbconvert_exporter": "python",
   "pygments_lexer": "ipython3",
   "version": "3.12.1"
  }
 },
 "nbformat": 4,
 "nbformat_minor": 5
}
